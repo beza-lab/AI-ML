{
 "cells": [
  {
   "cell_type": "code",
   "execution_count": null,
   "id": "53bd0f3a",
   "metadata": {},
   "outputs": [],
   "source": [
    "from langchain_openai import ChatOpenAI\n",
    "from langchain_core.runnables.history import RunnableWithMessageHistory\n",
    "from langchain.memory import ChatMessageHistory"
   ]
  },
  {
   "cell_type": "code",
   "execution_count": null,
   "id": "ed74c2d5",
   "metadata": {},
   "outputs": [
    {
     "name": "stdout",
     "output_type": "stream",
     "text": [
      "Hi! I'm ChatSimple. Type 'bye' to exit.\n",
      "ChatSimple: I'm not sure how to respond to that.\n",
      "ChatSimple: I'm not sure how to respond to that.\n",
      "ChatSimple: I'm not sure how to respond to that.\n",
      "ChatSimple: I'm not sure how to respond to that.\n",
      "ChatSimple: Hello there! How can I help you?\n",
      "ChatSimple: I'm just code, but I'm doing great! 😄\n",
      "ChatSimple: I'm ChatSimple, your friendly chatbot.\n",
      "ChatSimple: I can't check the weather, but I hope it's nice!\n",
      "ChatSimple: I'm not sure how to respond to that.\n",
      "ChatSimple: Goodbye! 👋\n",
      "Hi! I'm ChatSimple. Type 'bye' to exit.\n",
      "ChatSimple: Goodbye! 👋\n"
     ]
    }
   ],
   "source": [
    "# Simple chatbot using if-else logic\n",
    "\n",
    "def chatbot():\n",
    "    print(\"Hi! I'm ChatSimple. Type 'bye' to exit.\")\n",
    "    \n",
    "    while True:\n",
    "        user_input = input(\"You: \").lower()\n",
    "        \n",
    "        if user_input == \"bye\":\n",
    "            print(\"ChatSimple: Goodbye! 👋\")\n",
    "            break\n",
    "        elif \"hello\" in user_input or \"hi\" in user_input:\n",
    "            print(\"ChatSimple: Hello there! How can I help you?\")\n",
    "        elif \"how are you\" in user_input:\n",
    "            print(\"ChatSimple: I'm just code, but I'm doing great! 😄\")\n",
    "        elif \"your name\" in user_input:\n",
    "            print(\"ChatSimple: I'm ChatSimple, your friendly chatbot.\")\n",
    "        elif \"weather\" in user_input:\n",
    "            print(\"ChatSimple: I can't check the weather, but I hope it's nice!\")\n",
    "        else:\n",
    "            print(\"ChatSimple: I'm not sure how to respond to that.\")\n",
    "\n",
    "# Run the chatbot\n",
    "chatbot()\n",
    "# Simple chatbot using if-else logic\n",
    "\n",
    "def chatbot():\n",
    "    print(\"Hi! I'm ChatSimple. Type 'bye' to exit.\")\n",
    "    \n",
    "    while True:\n",
    "        user_input = input(\"You: \").lower()\n",
    "        \n",
    "        if user_input == \"bye\":\n",
    "            print(\"ChatSimple: Goodbye! 👋\")\n",
    "            break\n",
    "        elif \"hello\" in user_input or \"hi\" in user_input:\n",
    "            print(\"ChatSimple: Hello there! How can I help you?\")\n",
    "        elif \"how are you\" in user_input:\n",
    "            print(\"ChatSimple: I'm doing great! 😄\")\n",
    "        elif \"your name\" in user_input:\n",
    "            print(\"ChatSimple: I'm ChatSimple, your friendly chatbot.\")\n",
    "        elif \"weather\" in user_input:\n",
    "            print(\"ChatSimple:  I hope it's nice weather!\")\n",
    "        else:\n",
    "            print(\"ChatSimple: I'm not sure how to respond to that.\")\n",
    "\n",
    "# Run the chatbot\n",
    "chatbot()\n"
   ]
  }
 ],
 "metadata": {
  "kernelspec": {
   "display_name": ".ebcli-virtual-env",
   "language": "python",
   "name": "python3"
  },
  "language_info": {
   "codemirror_mode": {
    "name": "ipython",
    "version": 3
   },
   "file_extension": ".py",
   "mimetype": "text/x-python",
   "name": "python",
   "nbconvert_exporter": "python",
   "pygments_lexer": "ipython3",
   "version": "3.11.9"
  }
 },
 "nbformat": 4,
 "nbformat_minor": 5
}
